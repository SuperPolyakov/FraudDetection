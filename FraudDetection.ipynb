{
  "nbformat": 4,
  "nbformat_minor": 0,
  "metadata": {
    "colab": {
      "name": "FraudDetection.ipynb",
      "version": "0.3.2",
      "provenance": [],
      "collapsed_sections": []
    },
    "kernelspec": {
      "name": "python3",
      "display_name": "Python 3"
    }
  },
  "cells": [
    {
      "cell_type": "code",
      "metadata": {
        "id": "PlravVGmrf9x",
        "colab_type": "code",
        "colab": {}
      },
      "source": [
        "import pandas as pd\n",
        "import sklearn as sk\n",
        "from sklearn.preprocessing import scale\n",
        "from sklearn.model_selection import StratifiedShuffleSplit\n",
        "from sklearn.linear_model import LogisticRegression\n",
        "from sklearn.metrics import classification_report\n",
        "import matplotlib.pyplot as plt\n",
        "import seaborn as sns\n",
        "import random"
      ],
      "execution_count": 0,
      "outputs": []
    },
    {
      "cell_type": "code",
      "metadata": {
        "id": "t3aZSqK7rkCh",
        "colab_type": "code",
        "colab": {
          "base_uri": "https://localhost:8080/",
          "height": 224
        },
        "outputId": "0d109d4e-f6b2-4866-fdf5-222c4e07ad96"
      },
      "source": [
        "df = pd.read_csv('creditcard.csv', low_memory = False)\n",
        "df = df.sample(frac=1).reset_index(drop = True)\n",
        "df.head()"
      ],
      "execution_count": 5,
      "outputs": [
        {
          "output_type": "execute_result",
          "data": {
            "text/html": [
              "<div>\n",
              "<style scoped>\n",
              "    .dataframe tbody tr th:only-of-type {\n",
              "        vertical-align: middle;\n",
              "    }\n",
              "\n",
              "    .dataframe tbody tr th {\n",
              "        vertical-align: top;\n",
              "    }\n",
              "\n",
              "    .dataframe thead th {\n",
              "        text-align: right;\n",
              "    }\n",
              "</style>\n",
              "<table border=\"1\" class=\"dataframe\">\n",
              "  <thead>\n",
              "    <tr style=\"text-align: right;\">\n",
              "      <th></th>\n",
              "      <th>Time</th>\n",
              "      <th>V1</th>\n",
              "      <th>V2</th>\n",
              "      <th>V3</th>\n",
              "      <th>V4</th>\n",
              "      <th>V5</th>\n",
              "      <th>V6</th>\n",
              "      <th>V7</th>\n",
              "      <th>V8</th>\n",
              "      <th>V9</th>\n",
              "      <th>V10</th>\n",
              "      <th>V11</th>\n",
              "      <th>V12</th>\n",
              "      <th>V13</th>\n",
              "      <th>V14</th>\n",
              "      <th>V15</th>\n",
              "      <th>V16</th>\n",
              "      <th>V17</th>\n",
              "      <th>V18</th>\n",
              "      <th>V19</th>\n",
              "      <th>V20</th>\n",
              "      <th>V21</th>\n",
              "      <th>V22</th>\n",
              "      <th>V23</th>\n",
              "      <th>V24</th>\n",
              "      <th>V25</th>\n",
              "      <th>V26</th>\n",
              "      <th>V27</th>\n",
              "      <th>V28</th>\n",
              "      <th>Amount</th>\n",
              "      <th>Class</th>\n",
              "    </tr>\n",
              "  </thead>\n",
              "  <tbody>\n",
              "    <tr>\n",
              "      <th>0</th>\n",
              "      <td>168173.0</td>\n",
              "      <td>0.199294</td>\n",
              "      <td>0.851952</td>\n",
              "      <td>-3.361006</td>\n",
              "      <td>-1.338529</td>\n",
              "      <td>3.251861</td>\n",
              "      <td>2.745413</td>\n",
              "      <td>0.610722</td>\n",
              "      <td>1.036045</td>\n",
              "      <td>-0.677010</td>\n",
              "      <td>-1.107587</td>\n",
              "      <td>-0.079592</td>\n",
              "      <td>-0.144306</td>\n",
              "      <td>-0.499039</td>\n",
              "      <td>-0.299483</td>\n",
              "      <td>-0.345743</td>\n",
              "      <td>-0.105847</td>\n",
              "      <td>0.819564</td>\n",
              "      <td>-0.153523</td>\n",
              "      <td>-0.525924</td>\n",
              "      <td>-0.178906</td>\n",
              "      <td>0.195443</td>\n",
              "      <td>0.413542</td>\n",
              "      <td>0.046653</td>\n",
              "      <td>0.655588</td>\n",
              "      <td>-0.265982</td>\n",
              "      <td>0.568034</td>\n",
              "      <td>-0.140990</td>\n",
              "      <td>-0.054164</td>\n",
              "      <td>42.81</td>\n",
              "      <td>0</td>\n",
              "    </tr>\n",
              "    <tr>\n",
              "      <th>1</th>\n",
              "      <td>41237.0</td>\n",
              "      <td>0.900682</td>\n",
              "      <td>-1.227165</td>\n",
              "      <td>-0.666704</td>\n",
              "      <td>-0.774332</td>\n",
              "      <td>1.139551</td>\n",
              "      <td>3.940487</td>\n",
              "      <td>-0.982401</td>\n",
              "      <td>1.005058</td>\n",
              "      <td>1.053336</td>\n",
              "      <td>-0.479494</td>\n",
              "      <td>-0.567018</td>\n",
              "      <td>0.402462</td>\n",
              "      <td>-0.052336</td>\n",
              "      <td>-0.368615</td>\n",
              "      <td>-0.089862</td>\n",
              "      <td>0.231663</td>\n",
              "      <td>-0.348611</td>\n",
              "      <td>-0.153807</td>\n",
              "      <td>0.777615</td>\n",
              "      <td>0.431348</td>\n",
              "      <td>-0.172448</td>\n",
              "      <td>-0.818561</td>\n",
              "      <td>-0.122286</td>\n",
              "      <td>1.087053</td>\n",
              "      <td>0.225638</td>\n",
              "      <td>0.937635</td>\n",
              "      <td>-0.067266</td>\n",
              "      <td>0.040540</td>\n",
              "      <td>198.08</td>\n",
              "      <td>0</td>\n",
              "    </tr>\n",
              "    <tr>\n",
              "      <th>2</th>\n",
              "      <td>42087.0</td>\n",
              "      <td>-1.399097</td>\n",
              "      <td>-0.025732</td>\n",
              "      <td>2.047794</td>\n",
              "      <td>1.566632</td>\n",
              "      <td>0.748094</td>\n",
              "      <td>-0.154467</td>\n",
              "      <td>-0.031014</td>\n",
              "      <td>0.170494</td>\n",
              "      <td>-0.180078</td>\n",
              "      <td>-0.265082</td>\n",
              "      <td>-0.693131</td>\n",
              "      <td>0.133069</td>\n",
              "      <td>-0.195276</td>\n",
              "      <td>-0.150024</td>\n",
              "      <td>0.271878</td>\n",
              "      <td>-1.196819</td>\n",
              "      <td>0.697246</td>\n",
              "      <td>-0.521024</td>\n",
              "      <td>0.835407</td>\n",
              "      <td>0.076996</td>\n",
              "      <td>0.051374</td>\n",
              "      <td>0.324671</td>\n",
              "      <td>-0.045079</td>\n",
              "      <td>0.111226</td>\n",
              "      <td>0.525132</td>\n",
              "      <td>-0.064911</td>\n",
              "      <td>-0.046560</td>\n",
              "      <td>0.191230</td>\n",
              "      <td>9.99</td>\n",
              "      <td>0</td>\n",
              "    </tr>\n",
              "    <tr>\n",
              "      <th>3</th>\n",
              "      <td>120646.0</td>\n",
              "      <td>1.963488</td>\n",
              "      <td>-0.501246</td>\n",
              "      <td>-0.304923</td>\n",
              "      <td>0.316092</td>\n",
              "      <td>-0.650180</td>\n",
              "      <td>-0.097390</td>\n",
              "      <td>-0.749832</td>\n",
              "      <td>0.098522</td>\n",
              "      <td>1.007212</td>\n",
              "      <td>0.172808</td>\n",
              "      <td>0.454771</td>\n",
              "      <td>1.016233</td>\n",
              "      <td>0.250932</td>\n",
              "      <td>-0.110192</td>\n",
              "      <td>-0.345681</td>\n",
              "      <td>0.598983</td>\n",
              "      <td>-0.855195</td>\n",
              "      <td>0.575424</td>\n",
              "      <td>0.140075</td>\n",
              "      <td>-0.158939</td>\n",
              "      <td>0.194880</td>\n",
              "      <td>0.756077</td>\n",
              "      <td>0.109603</td>\n",
              "      <td>-0.273725</td>\n",
              "      <td>-0.265135</td>\n",
              "      <td>0.568165</td>\n",
              "      <td>-0.022754</td>\n",
              "      <td>-0.059468</td>\n",
              "      <td>11.50</td>\n",
              "      <td>0</td>\n",
              "    </tr>\n",
              "    <tr>\n",
              "      <th>4</th>\n",
              "      <td>66975.0</td>\n",
              "      <td>-3.015993</td>\n",
              "      <td>-0.088885</td>\n",
              "      <td>0.815518</td>\n",
              "      <td>-0.051649</td>\n",
              "      <td>-1.803692</td>\n",
              "      <td>0.347270</td>\n",
              "      <td>-0.432743</td>\n",
              "      <td>1.438429</td>\n",
              "      <td>-1.717152</td>\n",
              "      <td>-0.529591</td>\n",
              "      <td>0.388134</td>\n",
              "      <td>0.672810</td>\n",
              "      <td>-0.723095</td>\n",
              "      <td>0.894921</td>\n",
              "      <td>-1.198199</td>\n",
              "      <td>-1.093638</td>\n",
              "      <td>0.524809</td>\n",
              "      <td>1.085193</td>\n",
              "      <td>-1.391216</td>\n",
              "      <td>-1.109115</td>\n",
              "      <td>-0.488986</td>\n",
              "      <td>-1.256516</td>\n",
              "      <td>0.183102</td>\n",
              "      <td>0.149968</td>\n",
              "      <td>0.178466</td>\n",
              "      <td>-0.717049</td>\n",
              "      <td>-0.283450</td>\n",
              "      <td>-0.505271</td>\n",
              "      <td>151.50</td>\n",
              "      <td>0</td>\n",
              "    </tr>\n",
              "  </tbody>\n",
              "</table>\n",
              "</div>"
            ],
            "text/plain": [
              "       Time        V1        V2        V3  ...       V27       V28  Amount  Class\n",
              "0  168173.0  0.199294  0.851952 -3.361006  ... -0.140990 -0.054164   42.81      0\n",
              "1   41237.0  0.900682 -1.227165 -0.666704  ... -0.067266  0.040540  198.08      0\n",
              "2   42087.0 -1.399097 -0.025732  2.047794  ... -0.046560  0.191230    9.99      0\n",
              "3  120646.0  1.963488 -0.501246 -0.304923  ... -0.022754 -0.059468   11.50      0\n",
              "4   66975.0 -3.015993 -0.088885  0.815518  ... -0.283450 -0.505271  151.50      0\n",
              "\n",
              "[5 rows x 31 columns]"
            ]
          },
          "metadata": {
            "tags": []
          },
          "execution_count": 5
        }
      ]
    },
    {
      "cell_type": "code",
      "metadata": {
        "id": "zHH-ijd7rkHe",
        "colab_type": "code",
        "colab": {
          "base_uri": "https://localhost:8080/",
          "height": 51
        },
        "outputId": "8d610a64-e6ee-4d3f-9226-ea7f2e0dcc7f"
      },
      "source": [
        "fraud = df.loc[df['Class'] == 1]\n",
        "non_fraud = df.loc[df['Class'] == 0]\n",
        "print(len(fraud))\n",
        "print(len(non_fraud))\n"
      ],
      "execution_count": 6,
      "outputs": [
        {
          "output_type": "stream",
          "text": [
            "492\n",
            "284315\n"
          ],
          "name": "stdout"
        }
      ]
    },
    {
      "cell_type": "code",
      "metadata": {
        "id": "8Qg_mPEHrkJK",
        "colab_type": "code",
        "colab": {
          "base_uri": "https://localhost:8080/",
          "height": 300
        },
        "outputId": "2f1c0e38-2a7b-4dea-d33f-54a94b0d319c"
      },
      "source": [
        "ax = fraud.plot.scatter(x = 'Amount', y = 'Class', color = 'Orange', label = 'Fraud')\n",
        "non_fraud.plot.scatter(x = 'Amount', y = 'Class', color = 'Blue', label = 'Non_Fraud', ax = ax)\n",
        "plt.show"
      ],
      "execution_count": 8,
      "outputs": [
        {
          "output_type": "execute_result",
          "data": {
            "text/plain": [
              "<function matplotlib.pyplot.show>"
            ]
          },
          "metadata": {
            "tags": []
          },
          "execution_count": 8
        },
        {
          "output_type": "display_data",
          "data": {
            "image/png": "[encoded data removed]",
            "text/plain": [
              "<Figure size 432x288 with 1 Axes>"
            ]
          },
          "metadata": {
            "tags": []
          }
        }
      ]
    },
    {
      "cell_type": "code",
      "metadata": {
        "id": "_UgeP9FUbk6s",
        "colab_type": "code",
        "colab": {
          "base_uri": "https://localhost:8080/",
          "height": 258
        },
        "outputId": "94eac07f-fdaf-43d0-f88a-6c59bd78f5ef"
      },
      "source": [
        "labels = 'Fraud', 'Non_Fraud'\n",
        "sizes = [492, 284315]\n",
        "explode = ( 0.1, 0)  \n",
        "\n",
        "fig1, ax1 = plt.subplots()\n",
        "ax1.pie(sizes, explode=explode, labels=labels, autopct='%1.1f%%',\n",
        "        shadow=True, startangle=90)\n",
        "ax1.axis('equal')  # Equal aspect ratio ensures that pie is drawn as a circle.\n",
        "\n",
        "plt.show()"
      ],
      "execution_count": 22,
      "outputs": [
        {
          "output_type": "display_data",
          "data": {
            "image/png": "[encoded data removed]",
            "text/plain": [
              "<Figure size 432x288 with 1 Axes>"
            ]
          },
          "metadata": {
            "tags": []
          }
        }
      ]
    },
    {
      "cell_type": "code",
      "metadata": {
        "id": "diNqMUGeYJAu",
        "colab_type": "code",
        "colab": {}
      },
      "source": [
        "from sklearn import linear_model\n",
        "from sklearn.model_selection import train_test_split"
      ],
      "execution_count": 0,
      "outputs": []
    },
    {
      "cell_type": "code",
      "metadata": {
        "id": "en_ARvMBc8ES",
        "colab_type": "code",
        "colab": {
          "base_uri": "https://localhost:8080/",
          "height": 136
        },
        "outputId": "bc13d73e-0a6e-431d-f4b6-8163ba875f87"
      },
      "source": [
        "logistic = linear_model.LogisticRegression(C = 1e5)\n",
        "logistic.fit(X_train, y_train)"
      ],
      "execution_count": 23,
      "outputs": [
        {
          "output_type": "stream",
          "text": [
            "/usr/local/lib/python3.6/dist-packages/sklearn/linear_model/logistic.py:432: FutureWarning: Default solver will be changed to 'lbfgs' in 0.22. Specify a solver to silence this warning.\n",
            "  FutureWarning)\n"
          ],
          "name": "stderr"
        },
        {
          "output_type": "execute_result",
          "data": {
            "text/plain": [
              "LogisticRegression(C=100000.0, class_weight=None, dual=False,\n",
              "                   fit_intercept=True, intercept_scaling=1, l1_ratio=None,\n",
              "                   max_iter=100, multi_class='warn', n_jobs=None, penalty='l2',\n",
              "                   random_state=None, solver='warn', tol=0.0001, verbose=0,\n",
              "                   warm_start=False)"
            ]
          },
          "metadata": {
            "tags": []
          },
          "execution_count": 23
        }
      ]
    },
    {
      "cell_type": "code",
      "metadata": {
        "id": "kJIfvq-vYJW9",
        "colab_type": "code",
        "colab": {
          "base_uri": "https://localhost:8080/",
          "height": 34
        },
        "outputId": "cbbe1170-ca0e-4fc2-941b-5ffdf8998c28"
      },
      "source": [
        "x = df.iloc[:, :-1]\n",
        "y = df['Class']\n",
        "\n",
        "X_train, X_test, y_train, y_test = train_test_split(x, y, test_size = 0.20) \n",
        "print('Score:', logistic.score(X_test, y_test))"
      ],
      "execution_count": 24,
      "outputs": [
        {
          "output_type": "stream",
          "text": [
            "Score: 0.9987711105649381\n"
          ],
          "name": "stdout"
        }
      ]
    }
  ]
}